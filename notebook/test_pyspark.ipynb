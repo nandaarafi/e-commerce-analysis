{
 "cells": [
  {
   "cell_type": "code",
   "execution_count": 16,
   "id": "initial_id",
   "metadata": {
    "collapsed": true,
    "ExecuteTime": {
     "end_time": "2024-07-11T08:24:40.193477400Z",
     "start_time": "2024-07-11T08:24:40.186598Z"
    }
   },
   "outputs": [],
   "source": [
    "from pyspark.sql import SparkSession\n",
    "import pandas as pd\n",
    "from pyspark.sql.functions import *\n",
    "import pyspark.sql.functions as F\n",
    "from pyspark.sql.types import *"
   ]
  },
  {
   "cell_type": "code",
   "execution_count": 17,
   "outputs": [],
   "source": [
    "def init():\n",
    "    spark_init = SparkSession.builder \\\n",
    "        .appName('Assignment') \\\n",
    "        .master('local[*]') \\\n",
    "        .getOrCreate()\n",
    "    return spark_init\n",
    "spark_session = init()\n"
   ],
   "metadata": {
    "collapsed": false,
    "ExecuteTime": {
     "end_time": "2024-07-11T08:24:40.425301200Z",
     "start_time": "2024-07-11T08:24:40.361347500Z"
    }
   },
   "id": "11502751f61ea039"
  },
  {
   "cell_type": "code",
   "execution_count": 18,
   "outputs": [],
   "source": [
    "RESOURCES_PATH = f'data/'\n"
   ],
   "metadata": {
    "collapsed": false,
    "ExecuteTime": {
     "end_time": "2024-07-11T08:24:40.549196900Z",
     "start_time": "2024-07-11T08:24:40.535188300Z"
    }
   },
   "id": "4f47fddc071af186"
  },
  {
   "cell_type": "code",
   "execution_count": 53,
   "outputs": [],
   "source": [
    "import glob\n"
   ],
   "metadata": {
    "collapsed": false,
    "ExecuteTime": {
     "end_time": "2024-07-11T09:21:05.677642800Z",
     "start_time": "2024-07-11T09:21:05.667642600Z"
    }
   },
   "id": "4ebd4edf449789f0"
  },
  {
   "cell_type": "code",
   "execution_count": 67,
   "outputs": [],
   "source": [
    "product_info_schema = StructType([\n",
    "    StructField('product_id', StringType(), True),\n",
    "    StructField('product_name', StringType(), True),\n",
    "    StructField('brand_id', IntegerType(), True),\n",
    "    StructField('brand_name', StringType(), True),\n",
    "    StructField('loves_count', IntegerType(), True),\n",
    "    StructField('rating', FloatType(), True),\n",
    "    StructField('reviews', IntegerType(), True),\n",
    "    StructField('size', StringType(), True),\n",
    "    StructField('variation_type', StringType(), True),\n",
    "    StructField('variation_value', StringType(), True),\n",
    "    StructField('variation_desc', StringType(), True),\n",
    "    StructField('ingredients', StringType(),   True),\n",
    "    StructField('price_usd', FloatType(), True),\n",
    "    StructField('value_price_usd', FloatType(), True),\n",
    "    StructField('sale_price_usd', FloatType(), True),\n",
    "    StructField('is_limited_edition', IntegerType(), True),\n",
    "    StructField('is_new', IntegerType(), True),\n",
    "    StructField('is_out_of_stock', IntegerType(), True),\n",
    "    StructField('is_online_only', IntegerType(), True),\n",
    "    StructField('is_sephora_exclusive', IntegerType(), True),\n",
    "    StructField('highlights', StringType(), True),\n",
    "    StructField('primary_category', StringType(), True),\n",
    "    StructField('secondary_category', StringType(), True),\n",
    "    StructField('tertiary_category', StringType(), True),\n",
    "    StructField('child_count', IntegerType(), True),\n",
    "    StructField('child_max_price', DoubleType(), True),\n",
    "    StructField('child_min_price', DoubleType(), True),\n",
    "])\n",
    "\n",
    "reviews_schema = StructType([\n",
    "    StructField('review_id', IntegerType(), True),\n",
    "    StructField('author_id', LongType(), True),\n",
    "    StructField('rating', IntegerType(), True),\n",
    "    StructField('is_recommended', FloatType(), True),\n",
    "    StructField('helpfulness', FloatType(), True),\n",
    "    StructField('total_feedback_count', IntegerType(), True),\n",
    "    StructField('total_neg_feedback_count', IntegerType(), True),\n",
    "    StructField('total_pos_feedback_count', IntegerType(), True),\n",
    "    StructField('submission_time', StringType(), True),\n",
    "    StructField('review_text', StringType(), True),\n",
    "    StructField('review_title', StringType(), True),\n",
    "    StructField('skin_tone', StringType(),   True),\n",
    "    StructField('eye_color', StringType(), True),\n",
    "    StructField('skin_type', StringType(), True),\n",
    "    StructField('hair_color', StringType(), True),\n",
    "    StructField('product_id', StringType(), True),\n",
    "    StructField('product_name', StringType(), True),\n",
    "    StructField('brand_name', StringType(), True),\n",
    "    StructField('price_usd', FloatType(), True),\n",
    "])\n",
    "\n",
    "product_info_df = spark_session.read.csv(f'../{RESOURCES_PATH}/product_info.csv',\n",
    "                                            header=True,\n",
    "                                            schema=product_info_schema)\n",
    "\n",
    "file_pattern = f\"../{RESOURCES_PATH}/reviews*.csv\"\n",
    "file_paths = glob.glob(file_pattern)\n",
    "\n",
    "# Step 4: Read each CSV file into a DataFrame using the predefined schema\n",
    "dataframes = []\n",
    "for file_path in file_paths:\n",
    "    df = spark_session.read.csv(file_path, header=True, schema=reviews_schema)\n",
    "    dataframes.append(df)\n",
    "\n",
    "# Step 5: Union the DataFrames to create a single combined DataFrame\n",
    "if dataframes:\n",
    "    reviews_df_merge = dataframes[0]\n",
    "    for df in dataframes[1:]:\n",
    "        reviews_df_merge = reviews_df_merge.union(df)"
   ],
   "metadata": {
    "collapsed": false,
    "ExecuteTime": {
     "end_time": "2024-07-11T09:29:11.987815400Z",
     "start_time": "2024-07-11T09:29:11.863118100Z"
    }
   },
   "id": "489bd70424e59977"
  },
  {
   "cell_type": "code",
   "execution_count": 78,
   "outputs": [
    {
     "name": "stdout",
     "output_type": "stream",
     "text": [
      "+----------+--------------------+--------+--------------+-----------+------+-------+--------------------+--------------------+--------------------+--------------+--------------------+---------+---------------+--------------+------------------+------+---------------+--------------+--------------------+--------------------+----------------+--------------------+--------------------+-----------+---------------+---------------+\n",
      "|product_id|        product_name|brand_id|    brand_name|loves_count|rating|reviews|                size|      variation_type|     variation_value|variation_desc|         ingredients|price_usd|value_price_usd|sale_price_usd|is_limited_edition|is_new|is_out_of_stock|is_online_only|is_sephora_exclusive|          highlights|primary_category|  secondary_category|   tertiary_category|child_count|child_max_price|child_min_price|\n",
      "+----------+--------------------+--------+--------------+-----------+------+-------+--------------------+--------------------+--------------------+--------------+--------------------+---------+---------------+--------------+------------------+------+---------------+--------------+--------------------+--------------------+----------------+--------------------+--------------------+-----------+---------------+---------------+\n",
      "|   P473671|Fragrance Discove...|    6342|         19-69|       6320|3.6364|     11|                null|                null|                null|          null|['Capri Eau de Pa...|     35.0|           null|          null|                 0|     0|              1|             0|                   0|['Unisex/ Genderl...|       Fragrance|   Value & Gift Sets|   Perfume Gift Sets|          0|           null|           null|\n",
      "|   P473668|La Habana Eau de ...|    6342|         19-69|       3827|4.1538|     13|      3.4 oz/ 100 mL|Size + Concentrat...|      3.4 oz/ 100 mL|          null|['Alcohol Denat. ...|    195.0|           null|          null|                 0|     0|              1|             0|                   0|['Unisex/ Genderl...|       Fragrance|               Women|             Perfume|          2|           85.0|           30.0|\n",
      "|   P473662|Rainbow Bar Eau d...|    6342|         19-69|       3253|  4.25|     16|      3.4 oz/ 100 mL|Size + Concentrat...|      3.4 oz/ 100 mL|          null|['Alcohol Denat. ...|    195.0|           null|          null|                 0|     0|              1|             0|                   0|['Unisex/ Genderl...|       Fragrance|               Women|             Perfume|          2|           75.0|           30.0|\n",
      "|   P473660|Kasbah Eau de Parfum|    6342|         19-69|       3018|4.4762|     21|      3.4 oz/ 100 mL|Size + Concentrat...|      3.4 oz/ 100 mL|          null|['Alcohol Denat. ...|    195.0|           null|          null|                 0|     0|              1|             0|                   0|['Unisex/ Genderl...|       Fragrance|               Women|             Perfume|          2|           75.0|           30.0|\n",
      "|   P473658|Purple Haze Eau d...|    6342|         19-69|       2691|3.2308|     13|      3.4 oz/ 100 mL|Size + Concentrat...|      3.4 oz/ 100 mL|          null|['Alcohol Denat. ...|    195.0|           null|          null|                 0|     0|              1|             0|                   0|['Unisex/ Genderl...|       Fragrance|               Women|             Perfume|          2|           75.0|           30.0|\n",
      "|   P473661|Kasbah Eau de Par...|    6342|         19-69|       2448|4.4762|     21|     0.25 oz/ 7.5 mL|Size + Concentrat...|0.25 oz/ 7.5 mL E...|          null|['Alcohol Denat. ...|     30.0|           null|          null|                 0|     0|              1|             0|                   0|['Warm &Spicy Sce...|       Fragrance|               Women|Rollerballs & Tra...|          0|           null|           null|\n",
      "|   P473659|Purple Haze Eau d...|    6342|         19-69|       1619|3.2308|     13|     0.25 oz/ 7.5 mL|Size + Concentrat...|     0.25 oz/ 7.5 mL|          null|['Alcohol Denat. ...|     30.0|           null|          null|                 0|     0|              1|             0|                   0|['Unisex/ Genderl...|       Fragrance|               Women|Rollerballs & Tra...|          0|           null|           null|\n",
      "|   P473666|Invisible Post Ea...|    6342|         19-69|       1542| 3.625|      8|      3.4 oz/ 100 mL|Size + Concentrat...|      3.4 oz/ 100 mL|          null|['Alcohol Denat. ...|    195.0|           null|          null|                 0|     0|              1|             0|                   0|['Unisex/ Genderl...|       Fragrance|               Women|             Perfume|          2|           75.0|           30.0|\n",
      "|   P472300| Capri Eau de Parfum|    6342|         19-69|       1542|3.5714|      7|      3.4 oz/ 100 mL|Size + Concentrat...|3.4 oz/ 100 mL Ea...|          null|['Alcohol Denat. ...|    195.0|           null|          null|                 0|     0|              1|             0|                   0|['Fresh Scent', '...|       Fragrance|               Women|             Perfume|          2|           75.0|           30.0|\n",
      "|   P473667|Invisible Post Ea...|    6342|         19-69|       1377| 3.625|      8|     0.25 oz/ 7.5 mL|Size + Concentrat...|     0.25 oz/ 7.5 mL|          null|['Alcohol Denat. ...|     30.0|           null|          null|                 0|     0|              1|             0|                   0|['Unisex/ Genderl...|       Fragrance|               Women|Rollerballs & Tra...|          0|           null|           null|\n",
      "|   P473663|Rainbow Bar Eau d...|    6342|         19-69|       1371|  4.25|     16|     0.25 oz/ 7.5 mL|Size + Concentrat...|     0.25 oz/ 7.5 mL|          null|['Alcohol Denat. ...|     30.0|           null|          null|                 0|     0|              1|             0|                   0|['Unisex/ Genderl...|       Fragrance|               Women|Rollerballs & Tra...|          0|           null|           null|\n",
      "|   P473670|Capri Eau de Parf...|    6342|         19-69|       1206|3.5714|      7|     0.25 oz/ 7.5 mL|Size + Concentrat...|     0.25 oz/ 7.5 mL|          null|['Alcohol Denat. ...|     30.0|           null|          null|                 0|     0|              1|             0|                   0|['Unisex/ Genderl...|       Fragrance|               Women|Rollerballs & Tra...|          0|           null|           null|\n",
      "|   P473664|L'air Barbes Eau ...|    6342|         19-69|        981|   3.0|      4|      3.4 oz/ 100 mL|Size + Concentrat...|3.4 oz/ 100 mL Ea...|          null|['Alcohol Denat. ...|    195.0|           null|          null|                 0|     0|              1|             0|                   0|['Fresh Scent', '...|       Fragrance|               Women|             Perfume|          2|           75.0|           30.0|\n",
      "|   P473665|L'air Barbes Eau ...|    6342|         19-69|        721|   3.0|      4|     0.25 oz/ 7.5 mL|Size + Concentrat...|     0.25 oz/ 7.5 mL|          null|['Alcohol Denat. ...|     30.0|           null|          null|                 0|     0|              1|             0|                   0|['Unisex/ Genderl...|       Fragrance|               Women|Rollerballs & Tra...|          0|           null|           null|\n",
      "|   P476416|AFRICAN Beauty Bu...|    6471|    54 Thrones|      19028|4.3256|    258|       6 oz / 180 mL|               Scent|Ugandan Vanilla +...|          null|['Butyrospermum P...|     38.0|           null|          null|                 0|     0|              1|             0|                   0|['Clean at Sephor...|     Bath & Body|   Body Moisturizers|Body Lotions & Bo...|         10|           38.0|           12.0|\n",
      "|   P476418|African Beauty Bu...|    6471|    54 Thrones|       7526| 3.561|     41|                null|                null|                null|          null|['Egyptian Lavend...|     29.0|           42.0|          null|                 0|     0|              1|             1|                   1|['Good for: Dryne...|     Bath & Body|   Value & Gift Sets|                null|          0|           null|           null|\n",
      "|   P476417|African Beauty Bu...|    6471|    54 Thrones|       3741|4.2273|     22|                null|                null|                null|          null|['Egyptian Lavend...|     80.0|          120.0|          null|                 0|     0|              1|             0|                   0|['Good for: Dryne...|     Bath & Body|   Value & Gift Sets|                null|          0|           null|           null|\n",
      "|   P503832|Mini AFRICAN Beau...|    6471|    54 Thrones|       3392|4.5175|    143|        1 oz / 30 mL|               Scent|Ugandan Vanilla a...|          null|['Butyrospermum P...|     12.0|           null|          null|                 0|     1|              1|             1|                   0|['Clean at Sephor...|     Bath & Body|   Body Moisturizers|Body Lotions & Bo...|          2|           12.0|           12.0|\n",
      "|   P483068|  ABBOTT Sampler Set|    6485|        ABBOTT|       4493|4.8163|     49|                null|                null|                null|          null|['Big Sky:', 'Wat...|     26.0|           null|          null|                 0|     0|              0|             1|                   0|['Vegan', 'Woody ...|       Fragrance|   Value & Gift Sets|   Perfume Gift Sets|          0|           null|           null|\n",
      "|   P483139|    The Cape Perfume|    6485|        ABBOTT|       3118|4.6111|     18|      1.7 oz / 50 mL|Size + Concentrat...|1.7 oz / 50 mL ea...|          null|['Water, Denature...|     84.0|           null|          null|                 0|     0|              1|             0|                   0|['Clean + Planet ...|       Fragrance|               Women|             Perfume|          1|           29.0|           29.0|\n",
      "|   P483080|Crescent Beach Pe...|    6485|        ABBOTT|       1957|4.7778|      9|0.33 oz / 10 mL e...|Size + Concentrat...|0.33 oz / 10 mL e...|          null|                null|     29.0|           null|          null|                 0|     0|              0|             0|                   0|['Vegan', 'Clean ...|       Fragrance|               Women|Rollerballs & Tra...|          0|           null|           null|\n",
      "|   P483079|Crescent Beach Pe...|    6485|        ABBOTT|       1608|4.5882|     17|      1.7 oz / 50 mL|Size + Concentrat...|      1.7 oz / 50 mL|          null|['Water, Denature...|     84.0|           null|          null|                 0|     0|              0|             0|                   0|['Vegan', 'Clean ...|       Fragrance|               Women|             Perfume|          1|           29.0|           29.0|\n",
      "|   P483131|Seqouia Eau de Pa...|    6485|        ABBOTT|       1458|4.1667|      6|0.34 oz / 10 mL e...|Size + Concentrat...|0.34 oz / 10 mL e...|          null|                null|     29.0|           null|          null|                 0|     0|              0|             0|                   0|['Vegan', 'Woody ...|       Fragrance|               Women|Rollerballs & Tra...|          0|           null|           null|\n",
      "|   P483130|     Sequoia Perfume|    6485|        ABBOTT|       1322| 4.619|     21|      1.7 oz / 50 mL|Size + Concentrat...|1.7 oz / 50 mL ea...|          null|['Water, Denature...|     84.0|           null|          null|                 0|     0|              0|             0|                   0|['Clean + Planet ...|       Fragrance|               Women|             Perfume|          1|           29.0|           29.0|\n",
      "|   P483108|Mojave Perfume Tr...|    6485|        ABBOTT|       1137|4.7143|      7|0.33 oz / 10 mL e...|Size + Concentrat...|0.33 oz / 10 mL e...|          null|                null|     29.0|           null|          null|                 0|     0|              1|             0|                   0|['Vegan', 'Woody ...|       Fragrance|               Women|Rollerballs & Tra...|          0|           null|           null|\n",
      "|   P483140|The Cape Perfume ...|    6485|        ABBOTT|       1092|3.8333|      6|0.34 oz / 10 mL e...|Size + Concentrat...|0.34 oz / 10 mL e...|          null|                null|     29.0|           null|          null|                 0|     0|              1|             1|                   0|['Vegan', 'Clean ...|       Fragrance|               Women|Rollerballs & Tra...|          0|           null|           null|\n",
      "|   P483072|Big Sky Eau de Pa...|    6485|        ABBOTT|        975|  4.25|      4|      0.27 oz / 8 mL|Size + Concentrat...|      0.27 oz / 8 mL|          null|['Water, Denature...|     28.0|           null|          null|                 0|     0|              0|             0|                   0|['Vegan', 'Woody ...|       Fragrance|               Women|Rollerballs & Tra...|          1|           29.0|           29.0|\n",
      "|   P483071|Big Sky Eau de Pa...|    6485|        ABBOTT|        966| 4.625|      8|      1.7 oz / 50 mL|Size + Concentrat...|1.7 oz / 50 mL ea...|          null|['Water, Denature...|     84.0|           null|          null|                 0|     0|              0|             0|                   0|['Clean + Planet ...|       Fragrance|               Women|             Perfume|          2|           29.0|           28.0|\n",
      "|   P483110|Montecito Perfume...|    6485|        ABBOTT|        897|3.7143|      7|0.33 oz / 10 mL e...|Size + Concentrat...|0.33 oz / 10 mL e...|          null|                null|     29.0|           null|          null|                 0|     0|              1|             0|                   0|['Vegan', 'Woody ...|       Fragrance|               Women|Rollerballs & Tra...|          0|           null|           null|\n",
      "|   P483109|   Montecito Perfume|    6485|        ABBOTT|        828|4.1111|      9|      1.7 oz / 50 mL|Size + Concentrat...|1.7 oz / 50 mL ea...|          null|['Water, Denature...|     84.0|           null|          null|                 0|     0|              1|             0|                   0|['Clean + Planet ...|       Fragrance|               Women|             Perfume|          1|           29.0|           29.0|\n",
      "|   P483107|      Mojave Perfume|    6485|        ABBOTT|        825|4.0909|     11|      1.7 oz / 50 mL|Size + Concentrat...|1.7 oz / 50 mL ea...|          null|['Water, Denature...|     84.0|           null|          null|                 0|     0|              1|             0|                   0|['Woody & Earthy ...|       Fragrance|               Women|             Perfume|          1|           29.0|           29.0|\n",
      "|   P443401|Blu Mediterraneo ...|    5847|Acqua di Parma|       7290|3.3333|     12|      5 x 0.16oz/5mL|                Size|      5 x 0.16oz/5mL|          null|['Arancia di Capr...|     77.0|           90.0|          null|                 0|     0|              1|             0|                   0|['Unisex/ Genderl...|       Mini Size|           Fragrance|                null|          0|           null|           null|\n",
      "|   P307804|    Mirto di Panarea|    5847|Acqua di Parma|       5658|4.4359|     39|         1 oz/ 30 mL|Size + Concentrat...|         1 oz/ 30 mL|          null|['Alcohol Denat.,...|     84.0|           null|          82.0|                 0|     0|              1|             0|                   0|['Unisex/ Genderl...|       Fragrance|               Women|             Perfume|          1|          214.0|          210.0|\n",
      "|   P375388|    Arancia di Capri|    5847|Acqua di Parma|       4812|3.9459|     37|            1oz/30mL|Size + Concentrat...|            1oz/30mL|          null|                null|     84.0|           null|          82.0|                 0|     0|              1|             0|                   0|['Unisex/ Genderl...|       Fragrance|               Women|             Perfume|          0|           null|           null|\n",
      "|   P163604|             Colonia|    5847|Acqua di Parma|       4157|4.2125|     80|      3.4 oz/ 100 mL|Size + Concentrat...|3.4 oz/ 100 mL Ea...|          null|['Alcohol Denat.,...|    181.0|           null|          null|                 0|     0|              1|             0|                   0|['Unisex/ Genderl...|       Fragrance|                 Men|             Cologne|          0|           null|           null|\n",
      "|   P252213|     Magnolia Nobile|    5847|Acqua di Parma|       3378|4.2791|     43|      3.4 oz/ 101 mL|Size + Concentrat...|      3.4 oz/ 101 mL|          null|                null|    210.0|           null|          null|                 0|     0|              1|             1|                   0|                null|       Fragrance|               Women|             Perfume|          0|           null|           null|\n",
      "|   P456550|  Yuzu Eau de Parfum|    5847|Acqua di Parma|       1953|4.6667|      6|       0.7 oz/ 20 mL|Size + Concentrat...|       0.7 oz/ 20 mL|          null|['Alcohol Denat.,...|    135.0|           null|          null|                 0|     0|              1|             0|                   0|                null|       Fragrance|               Women|             Perfume|          0|           null|           null|\n",
      "|   P377678|   Oud Eau de Parfum|    5847|Acqua di Parma|       1775|4.2632|     19|      3.4 oz/ 100 mL|                Size|      3.4 oz/ 100 mL|          null|['Alcohol Denat.,...|    295.0|           null|          null|                 0|     0|              1|             0|                   0|                null|       Fragrance|                 Men|             Cologne|          0|           null|           null|\n",
      "|   P269110|     Colonia Essenza|    5847|Acqua di Parma|       1638|4.5333|     15|       1.7 oz/ 50 mL|Size + Concentrat...|       1.7 oz/ 50 mL|          null|['Alcohol Denat.,...|    130.0|           null|          null|                 0|     0|              1|             0|                   0|                null|       Fragrance|                 Men|             Cologne|          1|          181.0|          181.0|\n",
      "|   P448830| Buongiorno Diffuser|    5847|Acqua di Parma|       1162| 4.625|      8|        6 oz/ 180 mL|                null|                null|          null|                null|    112.0|           null|          null|                 0|     0|              1|             0|                   0|                null|       Fragrance|Candles & Home Sc...|           Diffusers|          0|           null|           null|\n",
      "|   P380571|Colonia Alcohol-F...|    5847|Acqua di Parma|       1023|   3.2|     10|       2.5 oz/ 75 mL|                Size|       2.5 oz/ 75 mL|          null|['Aqua (Water), B...|     55.0|           null|          null|                 0|     0|              1|             0|                   0|['Stick Formula',...|     Bath & Body|           Body Care|Deodorant & Antip...|          0|           null|           null|\n",
      "|   P422289|        Colonia Pura|    5847|Acqua di Parma|        840|4.5714|      7|       1.7 oz/ 50 mL|Size + Concentrat...|1.7 oz/ 50 mL Eau...|          null|['Alcohol Denat.,...|    130.0|           null|          null|                 0|     0|              1|             0|                   0|                null|       Fragrance|               Women|             Perfume|          1|          181.0|          181.0|\n",
      "|   P471525|Arancia di Capri ...|    5847|Acqua di Parma|        601|  null|   null|         7 oz/ 200 g|Size + Concentrat...|7 oz/ 200 g 1-wic...|          null|                null|     82.0|           null|          null|                 0|     0|              1|             0|                   0|                null|       Fragrance|Candles & Home Sc...|             Candles|          0|           null|           null|\n",
      "|   P471526|Fico di Amalfi Ca...|    5847|Acqua di Parma|        517|   4.0|      2|         7 oz/ 200 g|Size + Concentrat...|7 oz/ 200 g 1-wic...|          null|                null|     82.0|           null|          null|                 0|     0|              1|             0|                   0|                null|       Fragrance|Candles & Home Sc...|             Candles|          0|           null|           null|\n",
      "|   P460438|Aperitivo In Terr...|    5847|Acqua di Parma|        423|   5.0|      1|              180 mL|                null|                null|          null|                null|    112.0|           null|          null|                 0|     0|              1|             0|                   0|                null|       Fragrance|Candles & Home Sc...|           Diffusers|          0|           null|           null|\n",
      "|   P448828|Luce di Colonia D...|    5847|Acqua di Parma|        349|2.6667|      3|        6 oz/ 180 mL|                null|                null|          null|                null|    112.0|           null|          null|                 0|     0|              1|             0|                   0|                null|       Fragrance|Candles & Home Sc...|           Diffusers|          0|           null|           null|\n",
      "|   P457232|Baomint Deep Cond...|    6321|  adwoa beauty|      16947|4.5273|    311|        16 oz/ 453 g|                Size|        16 oz/ 453 g|          null|['Water (Aqua), B...|     39.0|           null|          null|                 0|     0|              0|             0|                   1|['Vegan', 'Clean ...|            Hair|Hair Styling & Tr...|          Hair Masks|          1|           15.0|           15.0|\n",
      "|   P474806|Blue Tansy Repara...|    6321|  adwoa beauty|      14660|4.7581|    492|       16 oz/ 453 mg|                Size|       16 oz/ 453 mg|          null|['Water (Aqua), B...|     40.0|           null|          null|                 0|     0|              0|             0|                   1|['Good for: Damag...|            Hair|Hair Styling & Tr...|          Hair Masks|          0|           null|           null|\n",
      "|   P457233|Baomint Leave In ...|    6321|  adwoa beauty|      13333|4.3472|    144|       14 oz/ 414 mL|                Size|       14 oz/ 414 mL|          null|['Water (Aqua), B...|     26.0|           null|          null|                 0|     0|              0|             0|                   1|['Clean at Sephor...|            Hair|Hair Styling & Tr...|Leave-In Conditioner|          1|           13.0|           13.0|\n",
      "|   P474808|Blue Tansy Leave ...|    6321|  adwoa beauty|      11674|4.5762|    210|       14 oz/ 414 mL|                Size|       14 oz/ 414 mL|          null|['Water (Aqua), B...|     26.0|           null|          null|                 0|     0|              0|             0|                   0|['Good for: Damag...|            Hair|Hair Styling & Tr...|Leave-In Conditioner|          0|           null|           null|\n",
      "|   P457234|Baomint Moisturiz...|    6321|  adwoa beauty|      11122|4.1324|    136|       14 oz/ 414 mL|                Size|       14 oz/ 414 mL|          null|['Water (Aqua), A...|     24.0|           null|          null|                 0|     0|              0|             0|                   1|['Unisex/ Genderl...|            Hair|Shampoo & Conditi...|             Shampoo|          1|           12.0|           12.0|\n",
      "|   P474804|Blue Tansy Clarif...|    6321|  adwoa beauty|      10753|4.3109|    193|       14 oz/ 414 mL|                Size|       14 oz/ 414 mL|          null|['Water (Aqua), S...|     25.0|           null|          null|                 0|     0|              0|             0|                   0|['Clean at Sephor...|            Hair|Shampoo & Conditi...|             Shampoo|          0|           null|           null|\n",
      "|   P481372|Melonberry Hair M...|    6321|  adwoa beauty|       9921|4.3826|   1265|     6.8 oz / 200 mL|                Size|     6.8 oz / 200 mL|          null|['Water (Aqua), Q...|     24.0|           null|          null|                 0|     0|              0|             0|                   1|['Clean at Sephor...|            Hair|Hair Styling & Tr...|Leave-In Conditioner|          0|           null|           null|\n",
      "|   P457237|Baomint Protect +...|    6321|  adwoa beauty|       9757|4.5359|    237|      7.2 oz/ 213 mL|                Size|      7.2 oz/ 213 mL|          null|['Glycine Soja (S...|     24.0|           null|          null|                 0|     0|              0|             0|                   1|['Clean at Sephor...|            Hair|Hair Styling & Tr...|            Hair Oil|          1|           11.0|           11.0|\n",
      "|   P457236|Baomint Moisturiz...|    6321|  adwoa beauty|       9568|4.5635|    252|        16 oz/ 453 g|                Size|        16 oz/ 453 g|          null|['Water (Aqua), B...|     32.0|           null|          null|                 0|     0|              0|             0|                   1|['Clean at Sephor...|            Hair|Hair Styling & Tr...|Hair Styling Prod...|          1|           14.0|           14.0|\n",
      "|   P474807|Blue Tansy Treatm...|    6321|  adwoa beauty|       9233|4.6465|    215|         2 oz/ 60 mL|                Size|         2 oz/ 60 mL|          null|['Caprylic/Capric...|     36.0|           null|          null|                 0|     0|              0|             0|                   1|['Heat Protection...|            Hair|Hair Styling & Tr...|    Scalp Treatments|          0|           null|           null|\n",
      "|   P457235|Baomint Moisturiz...|    6321|  adwoa beauty|       7112|4.4188|    234|        16 oz/ 453 g|                Size|        16 oz/ 453 g|          null|['Water (Aqua), G...|     32.0|           null|          null|                 0|     0|              0|             0|                   1|['allure 2020 Bes...|            Hair|Hair Styling & Tr...|Hair Styling Prod...|          1|           14.0|           14.0|\n",
      "|   P474805|Blue Tansy Repara...|    6321|  adwoa beauty|       6136|4.3495|    186|       14 oz/ 414 mL|                Size|       14 oz/ 414 mL|          null|['Water, Glycerin...|     25.0|           null|          null|                 0|     0|              0|             0|                   1|['Good for: Damag...|            Hair|Shampoo & Conditi...|         Conditioner|          0|           null|           null|\n",
      "|   P473150|Mini Baomint Deep...|    6321|  adwoa beauty|       4562|   4.2|      5|        3.3 oz/ 94 g|                Size|        3.3 oz/ 94 g|          null|['Water (Aqua), B...|     15.0|           null|          null|                 0|     0|              1|             0|                   1|['Vegan', 'Clean ...|            Hair|           Mini Size|                null|          0|           null|           null|\n",
      "|   P473151|Mini Baomint Delu...|    6321|  adwoa beauty|       4559|4.7283|    173|                null|                null|                null|          null|['Baomint Moistur...|     56.0|           null|          null|                 0|     0|              1|             1|                   1|['Hydrating', 'Go...|            Hair|   Value & Gift Sets|                null|          0|           null|           null|\n",
      "|   P473154|Mini Baomint Mois...|    6321|  adwoa beauty|          0|  null|   null|        3.3 oz/ 94 g|                Size|        3.3 oz/ 94 g|          null|['Water (Aqua), G...|     14.0|           null|          null|                 0|     0|              0|             0|                   1|['allure 2020 Bes...|            Hair|           Mini Size|                null|          0|           null|           null|\n",
      "|   P473153|Mini Baomint Mois...|    6321|  adwoa beauty|          0|  null|   null|        3.3 oz/ 94 g|                Size|        3.3 oz/ 94 g|          null|['Water (Aqua), B...|     14.0|           null|          null|                 0|     0|              1|             0|                   1|['Clean at Sephor...|            Hair|           Mini Size|                null|          0|           null|           null|\n",
      "|   P473152|Mini Baomint Leav...|    6321|  adwoa beauty|          0|  null|   null|       3.3 oz/ 98 mL|                Size|       3.3 oz/ 98 mL|          null|['Water (Aqua), B...|     13.0|           null|          null|                 0|     0|              1|             0|                   1|['Clean at Sephor...|            Hair|           Mini Size|                null|          0|           null|           null|\n",
      "|   P473155|Mini Baomint Mois...|    6321|  adwoa beauty|          0|  null|   null|       3.3 oz/ 98 mL|                Size|       3.3 oz/ 98 mL|          null|['Water (Aqua), A...|     12.0|           null|          null|                 0|     0|              1|             0|                   1|['Unisex/ Genderl...|            Hair|           Mini Size|                null|          0|           null|           null|\n",
      "|   P473156|Mini Baomint Prot...|    6321|  adwoa beauty|          0|  null|   null|       3.3 oz/ 98 mL|                Size|       3.3 oz/ 98 mL|          null|['Glycine Soja (S...|     11.0|           null|          null|                 0|     0|              1|             0|                   1|['Clean at Sephor...|            Hair|           Mini Size|                null|          0|           null|           null|\n",
      "|   P398965|Rose Lip Conditioner|    7054|         AERIN|      20562|  4.26|    527|      0.34 oz/ 10 mL|               Scent|              1 Rose|          null|['Polybutene; Hyd...|     35.0|           null|          null|                 0|     0|              1|             0|                   0|['Hydrating', 'Go...|          Makeup|                 Lip|Lip Balm & Treatment|          0|           null|           null|\n",
      "|   P405269|Mediterranean Hon...|    7054|         AERIN|      15618|4.2158|    139|       1.7 oz/ 50 mL|Size + Concentrat...|1.7 oz/ 50 mL Eau...|          null|['Alcohol Denat.,...|    145.0|           null|          null|                 0|     0|              1|             0|                   0|['Floral Scent', ...|       Fragrance|               Women|             Perfume|          2|          200.0|           35.0|\n",
      "|   P405273|Mediterranean Hon...|    7054|         AERIN|      15404|   4.2|     50|       0.27 oz/ 8 mL|Size + Concentrat...|0.27 oz/ 8 mL Eau...|          null|['Alcohol Denat.,...|     35.0|           null|          null|                 0|     0|              1|             0|                   0|['Floral Scent', ...|       Fragrance|               Women|Rollerballs & Tra...|          0|           null|           null|\n",
      "|   P388770|          Amber Musk|    7054|         AERIN|      13830|4.3833|    120|       1.7 oz/ 50 mL|Size + Concentrat...|1.7 oz/ 50 mL Eau...|          null|['Alcohol Denat.,...|    145.0|           null|          null|                 0|     0|              1|             0|                   0|['Floral Scent', ...|       Fragrance|               Women|             Perfume|          2|          200.0|           35.0|\n",
      "|   P398823|Amber Musk Eau de...|    7054|         AERIN|      11147|4.1875|     48|       0.27 oz/ 8 mL|Size + Concentrat...|0.27 oz/ 8 mL Eau...|          null|['Alcohol Denat.,...|     35.0|           null|          null|                 0|     0|              1|             0|                   0|['Floral Scent', ...|       Mini Size|           Fragrance|                null|          0|           null|           null|\n",
      "|   P428454|Hibiscus Palm Eau...|    7054|         AERIN|       8201|4.3333|     60|       1.7 oz/ 50 mL|Size + Concentrat...|1.7 oz/ 50 mL Eau...|          null|['Alcohol Denat.,...|    145.0|           null|          null|                 0|     0|              1|             0|                   0|['Floral Scent', ...|       Fragrance|               Women|             Perfume|          2|          200.0|           35.0|\n",
      "|   P388762|        Ikat Jasmine|    7054|         AERIN|       7381|4.3385|     65|      3.4 oz/ 101 mL|Size + Concentrat...|3.4 oz/ 101 mL Ea...|          null|['Alcohol Denat.,...|    200.0|           null|          null|                 0|     0|              1|             0|                   0|['Floral Scent', ...|       Fragrance|               Women|             Perfume|          2|          145.0|           35.0|\n",
      "|   P388766|          Lilac Path|    7054|         AERIN|       6530|4.2875|     80|       1.7 oz/ 50 mL|Size + Concentrat...|1.7 oz/ 50 mL Eau...|          null|['Alcohol Denat.,...|    145.0|           null|          null|                 0|     0|              1|             0|                   0|['Floral Scent', ...|       Fragrance|               Women|             Perfume|          1|          200.0|          200.0|\n",
      "|   P395768|       Waterlily Sun|    7054|         AERIN|       6241|4.3529|     51|      1.7 oz / 50 mL|Size + Concentrat...|      1.7 oz / 50 mL|          null|['Alcohol Denat.,...|    145.0|           null|          null|                 0|     0|              1|             0|                   0|['Layerable Scent...|       Fragrance|               Women|             Perfume|          0|           null|           null|\n",
      "|   P433906|      Rose De Grasse|    7054|         AERIN|       4952|4.5278|     36|       1.7 oz/ 50 mL|Size + Concentrat...|       1.7 oz/ 50 mL|          null|['Alcohol Denat.,...|    260.0|           null|          null|                 0|     0|              1|             0|                   0|['Layerable Scent...|       Fragrance|               Women|             Perfume|          1|          360.0|          360.0|\n",
      "|   P433901|Ikat Jasmine Trav...|    7054|         AERIN|       4264|   4.0|     13|       0.27 oz/ 8 mL|Size + Concentrat...|0.27 oz/ 8 mL Eau...|          null|['Alcohol Denat.,...|     35.0|           null|          null|                 0|     0|              1|             0|                   0|['Layerable Scent...|       Fragrance|               Women|Rollerballs & Tra...|          0|           null|           null|\n",
      "|   P454826|Wild Geranium Tra...|    7054|         AERIN|       4082|4.3333|     21|       0.27 oz/ 8 mL|Size + Concentrat...|       0.27 oz/ 8 mL|          null|['Alcohol Denat.,...|     35.0|           null|          null|                 0|     0|              1|             0|                   0|['Layerable Scent...|       Fragrance|               Women|Rollerballs & Tra...|          0|           null|           null|\n",
      "|   P410846|     Tangier Vanille|    7054|         AERIN|       3842|3.6923|     39|       1.7 oz/ 50 mL|Size + Concentrat...|1.7 oz/ 50 mL Eau...|          null|['Alcohol Denat.,...|    145.0|           null|          null|                 0|     0|              1|             0|                   0|                null|       Fragrance|               Women|             Perfume|          0|           null|           null|\n",
      "|   P460780|Hibiscus Palm Eau...|    7054|         AERIN|       3549|4.0714|     14|       0.27 oz/ 8 mL|Size + Concentrat...|0.27 oz/ 8 mL Eau...|          null|['Alcohol Denat.,...|     35.0|           null|          null|                 0|     0|              1|             0|                   0|['Floral Scent', ...|       Fragrance|               Women|Rollerballs & Tra...|          0|           null|           null|\n",
      "|   P481055|Mediterranean Hon...|    7054|         AERIN|       3178|   3.2|     10|       1.7 oz/ 50 mL|Size + Concentrat...|       1.7 oz/ 50 mL|          null|['Alcohol Denat.,...|    135.0|           null|          null|                 0|     0|              1|             0|                   0|    ['Floral Scent']|       Fragrance|               Women|             Perfume|          1|           30.0|           30.0|\n",
      "|   P454825|       Wild Geranium|    7054|         AERIN|       3059|4.6667|     24|       1.7 oz/ 50 mL|Size + Concentrat...|       1.7 oz/ 50 mL|          null|['Alcohol Denat.,...|    145.0|           null|          null|                 0|     0|              1|             0|                   0|['Layerable Scent...|       Fragrance|               Women|             Perfume|          2|          200.0|           35.0|\n",
      "|   P442516|Mini Aegea Blosso...|    7054|         AERIN|       2453|3.7059|     17|       0.27 oz/ 8 mL|Size + Concentrat...|0.27 oz/ 8 mL Eau...|          null|['Alcohol Denat.,...|     35.0|           null|          null|                 0|     0|              1|             1|                   0|                null|       Fragrance|               Women|Rollerballs & Tra...|          0|           null|           null|\n",
      "|   P442515|Aegea Blossom Eau...|    7054|         AERIN|       2202|4.3529|     17|          1.7oz/50mL|Size + Concentrat...|          1.7oz/50mL|          null|['Alcohol Denat.,...|    145.0|           null|          null|                 0|     0|              1|             1|                   0|                null|       Fragrance|               Women|             Perfume|          1|           35.0|           35.0|\n",
      "|   P475043|Cedar Violet Eau ...|    7054|         AERIN|       1678|3.3571|     14|       0.23 oz/ 7 mL|Size + Concentrat...|0.23 oz/ 7 mL Eau...|          null|['Alcohol Denat.,...|     35.0|           null|          null|                 0|     0|              1|             0|                   0|                null|       Fragrance|               Women|Rollerballs & Tra...|          0|           null|           null|\n",
      "|   P504777|Perfume Sampler D...|    7054|         AERIN|       1376|  null|   null|                null|                null|                null|          null|['Ikat Jasmine:',...|     25.0|           null|          null|                 0|     1|              1|             0|                   0|                null|       Fragrance|   Value & Gift Sets|   Perfume Gift Sets|          0|           null|           null|\n",
      "|   P475042|Cedar Violet Eau ...|    7054|         AERIN|       1258|3.3571|     14|       1.7 oz/ 50 mL|Size + Concentrat...|1.7 oz/ 50 mL Eau...|          null|['Alcohol Denat.,...|    145.0|           null|          null|                 0|     0|              1|             0|                   0|                null|       Fragrance|               Women|             Perfume|          1|           35.0|           35.0|\n",
      "|   P504686|Mediterranean Hon...|    7054|         AERIN|       1111|   3.5|      4|      1.7 oz / 50 mL|Size + Concentrat...|1.7 oz / 50 mL ea...|          null|['Alcohol Denat.,...|    145.0|           null|          null|                 1|     1|              1|             0|                   0|                null|       Fragrance|               Women|             Perfume|          0|           null|           null|\n",
      "|   P471527|Rose De Grasse Po...|    7054|         AERIN|       1042|   2.0|      1|         1 oz/ 30 mL|Size + Concentrat...|1 oz/ 30 mL Eau d...|          null|['Alcohol Denat.,...|    100.0|           null|          null|                 1|     0|              1|             0|                   0|                null|       Fragrance|               Women|             Perfume|          0|           null|           null|\n",
      "|   P481056|Mediterranean Hon...|    7054|         AERIN|          0|  null|   null|        0.3 oz/ 7 mL|Size + Concentrat...|        0.3 oz/ 7 mL|          null|['Alcohol Denat.,...|     30.0|           null|          null|                 0|     0|              1|             0|                   0|    ['Floral Scent']|       Fragrance|               Women|Rollerballs & Tra...|          0|           null|           null|\n",
      "|   P439055|GENIUS Sleeping C...|    6018|      Algenist|      33910|4.5413|   1321|         2 oz/ 60 mL|                Size|         2 oz/ 60 mL|          null|['Collagen (Vegan...|     98.0|           null|          null|                 0|     0|              0|             0|                   1|['Vegan', 'Good f...|        Skincare|        Moisturizers|        Moisturizers|          0|           null|           null|\n",
      "|   P421277|GENIUS Liquid Col...|    6018|      Algenist|      67870|4.0259|   1159|       1 oz  / 30 mL|                Size|       1 oz  / 30 mL|          null|['Collagen (Vegan...|    115.0|           null|          null|                 0|     0|              0|             0|                   1|['Vegan', 'Good f...|        Skincare|          Treatments|         Face Serums|          1|           25.0|           25.0|\n",
      "|   P467602|Triple Algae Eye ...|    6018|      Algenist|      17890|4.5306|   1142|                null|                null|                null|          null|['Aqua (Water/Eau...|     68.0|           null|          null|                 0|     0|              0|             0|                   1|                null|        Skincare|            Eye Care|Eye Creams & Trea...|          0|           null|           null|\n",
      "|   P432045|GENIUS Liquid Col...|    6018|      Algenist|      44448|3.8721|    649|       .5 oz / 15 mL|                Size|       .5 oz / 15 mL|          null|['Collagen (Vegan...|     29.0|           null|          null|                 0|     0|              0|             0|                   1|['Vegan', 'Good f...|        Skincare|Lip Balms & Treat...|                null|          0|           null|           null|\n",
      "|   P311143|SUBLIME DEFENSE U...|    6018|      Algenist|      27278|4.4134|    508|                1 oz|                Size|                1 oz|          null|['Octinoxate 7.5%...|     28.0|           null|          null|                 0|     0|              0|             0|                   0|['Vegan', 'Hypoal...|        Skincare|           Sunscreen|      Face Sunscreen|          0|           null|           null|\n",
      "|   P384537|GENIUS Ultimate A...|    6018|      Algenist|      19733|4.2525|    503|         2 oz/ 60 mL|                Size|         2 oz/ 60 mL|          null|['Water (Aqua, Ea...|    112.0|           null|          null|                 0|     0|              0|             0|                   0|['Vegan', 'Collag...|        Skincare|        Moisturizers|        Moisturizers|          1|           75.0|           75.0|\n",
      "|   P388200|GENIUS Ultimate A...|    6018|      Algenist|       9314|4.0569|    334|        5 oz/ 150 mL|                Size|        5 oz/ 150 mL|          null|['C12-15 Alkyl Be...|     38.0|           null|          null|                 0|     0|              0|             1|                   0|                null|        Skincare|           Cleansers|Face Wash & Clean...|          0|           null|           null|\n",
      "|   P296413|Gentle Rejuvenati...|    6018|      Algenist|       7681|4.2689|    264|        4 oz/ 120 mL|                Size|        4 oz/ 120 mL|          null|['Water, Sodium C...|     28.0|           null|          null|                 0|     0|              0|             0|                   0|                null|        Skincare|           Cleansers|Face Wash & Clean...|          0|           null|           null|\n",
      "|   P500716|  10 Day Results Kit|    6018|      Algenist|       3206|4.8023|    258|                null|                null|                null|          null|['GENIUS Liquid C...|     88.0|          142.0|          null|                 0|     0|              0|             0|                   1|['Vegan', 'Good f...|        Skincare|   Value & Gift Sets|                null|          0|           null|           null|\n",
      "|   P379907|Advanced Anti-Agi...|    6018|      Algenist|      10676|4.4531|    245|         1 oz/ 30 mL|                Size|         1 oz/ 30 mL|          null|['Chlorella Proto...|     82.0|           null|          null|                 0|     0|              0|             0|                   0|                null|        Skincare|        Moisturizers|           Face Oils|          0|           null|           null|\n",
      "|   P296415|Overnight Restora...|    6018|      Algenist|      10578|4.3808|    239|         2 oz/ 60 mL|                Size|         2 oz/ 60 mL|          null|['Water, Isopropy...|     94.0|           null|          null|                 0|     0|              0|             0|                   0|                null|        Skincare|        Moisturizers|        Moisturizers|          0|           null|           null|\n",
      "+----------+--------------------+--------+--------------+-----------+------+-------+--------------------+--------------------+--------------------+--------------+--------------------+---------+---------------+--------------+------------------+------+---------------+--------------+--------------------+--------------------+----------------+--------------------+--------------------+-----------+---------------+---------------+\n"
     ]
    }
   ],
   "source": [
    "\n",
    "product_info_df.show(100)\n",
    "# reviews_df_merge.show()\n",
    "# reviews_df_merge.drop('submission_time')"
   ],
   "metadata": {
    "collapsed": false,
    "ExecuteTime": {
     "end_time": "2024-07-11T09:45:40.443666700Z",
     "start_time": "2024-07-11T09:45:40.337584500Z"
    }
   },
   "id": "4e3963114d6eef66"
  },
  {
   "cell_type": "code",
   "execution_count": 79,
   "outputs": [
    {
     "name": "stdout",
     "output_type": "stream",
     "text": [
      "+---------+-----------+------+--------------+-----------+--------------------+------------------------+------------------------+---------------+--------------------+--------------------+-----------+---------+-----------+----------+----------+--------------------+----------+---------+\n",
      "|review_id|  author_id|rating|is_recommended|helpfulness|total_feedback_count|total_neg_feedback_count|total_pos_feedback_count|submission_time|         review_text|        review_title|  skin_tone|eye_color|  skin_type|hair_color|product_id|        product_name|brand_name|price_usd|\n",
      "+---------+-----------+------+--------------+-----------+--------------------+------------------------+------------------------+---------------+--------------------+--------------------+-----------+---------+-----------+----------+----------+--------------------+----------+---------+\n",
      "|        0| 1741593524|     5|           1.0|        1.0|                   2|                       0|                       2|     2023-02-01|I use this with t...|Taught me how to ...|       null|    brown|        dry|     black|   P504322|Gentle Hydra-Gel ...|  NUDESTIX|     19.0|\n",
      "|        1|31423088263|     1|           0.0|       null|                   0|                       0|                       0|     2023-03-21|I bought this lip...|        Disappointed|       null|     null|       null|      null|   P420652|Lip Sleeping Mask...|   LANEIGE|     24.0|\n",
      "|        2| 5061282401|     5|           1.0|       null|                   0|                       0|                       0|     2023-03-21|My review title s...|New Favorite Routine|      light|    brown|        dry|    blonde|   P420652|Lip Sleeping Mask...|   LANEIGE|     24.0|\n",
      "|        3| 6083038851|     5|           1.0|       null|                   0|                       0|                       0|     2023-03-20|I’ve always loved...|Can't go wrong wi...|       null|    brown|combination|     black|   P420652|Lip Sleeping Mask...|   LANEIGE|     24.0|\n",
      "|        4|47056667835|     5|           1.0|       null|                   0|                       0|                       0|     2023-03-20|If you have dry c...|     A must have !!!|      light|    hazel|combination|      null|   P420652|Lip Sleeping Mask...|   LANEIGE|     24.0|\n",
      "|        5|42802569154|     4|           1.0|        1.0|                   1|                       0|                       1|     2023-03-19|The scent isn’t m...|              Great!|lightMedium|    brown|     normal|     brown|   P420652|Lip Sleeping Mask...|   LANEIGE|     24.0|\n",
      "|        6| 6941883808|     2|           0.0|       0.25|                   8|                       6|                       2|     2023-03-19|I’ll give this 2 ...|Dried my lips out...|      light|     blue|combination|     brown|   P420652|Lip Sleeping Mask...|   LANEIGE|     24.0|\n",
      "|        7|27926227988|     5|           1.0|       null|                   0|                       0|                       0|     2023-03-19|I use this at nig...|         Works great|  fairLight|    brown|combination|     brown|   P420652|Lip Sleeping Mask...|   LANEIGE|     24.0|\n",
      "|        8| 7656791726|     5|           1.0|        1.0|                   1|                       0|                       1|     2023-03-18|I love this stuff...|          Must have.|      light|     blue|     normal|    blonde|   P420652|Lip Sleeping Mask...|   LANEIGE|     24.0|\n",
      "|        9|38727834382|     5|           1.0|        1.0|                   2|                       0|                       2|     2023-03-18|I purchased the S...|     RUN TO PURCHASE|      light|    brown|     normal|     brown|   P420652|Lip Sleeping Mask...|   LANEIGE|     24.0|\n",
      "|       10|45409499927|     5|           1.0|       null|                   0|                       0|                       0|     2023-03-18|this product is a...|       so nourishing|       null|    brown|        dry|     black|   P420652|Lip Sleeping Mask...|   LANEIGE|     24.0|\n",
      "|       11|37554855017|     5|           1.0|       null|                   0|                       0|                       0|     2023-03-18|I use this every ...|      Worth the hype|       fair|    green|        dry|     brown|   P420652|Lip Sleeping Mask...|   LANEIGE|     24.0|\n",
      "|       12|21858073785|     4|           1.0|       null|                   0|                       0|                       0|     2023-03-17|A little goes a l...|                null|      light|     blue|combination|    blonde|   P420652|Lip Sleeping Mask...|   LANEIGE|     24.0|\n",
      "|       13|22249699172|     1|           0.0|   0.444444|                   9|                       5|                       4|     2023-03-17|Honestly I was so...|I WISHED I LOVED ...|       null|    brown|        dry|      null|   P420652|Lip Sleeping Mask...|   LANEIGE|     24.0|\n",
      "|       14| 1216391002|     3|           0.0|       null|                   0|                       0|                       0|     2023-03-16|Does the gummy be...|            Just meh|       fair|     blue|combination|    blonde|   P420652|Lip Sleeping Mask...|   LANEIGE|     24.0|\n",
      "|       15|45004161653|     5|           1.0|       null|                   0|                       0|                       0|     2023-03-16|I just got this a...|A definite must h...|lightMedium|    hazel|     normal|    blonde|   P420652|Lip Sleeping Mask...|   LANEIGE|     24.0|\n",
      "|       16|33602438124|     5|           1.0|       null|                   0|                       0|                       0|     2023-03-16|i love how hydrat...|                love|lightMedium|    brown|combination|     brown|   P420652|Lip Sleeping Mask...|   LANEIGE|     24.0|\n",
      "|       17|33049388574|     3|           1.0|       null|                   0|                       0|                       0|     2023-03-15|It’s super glossy...|                null|lightMedium|    hazel|        dry|     brown|   P420652|Lip Sleeping Mask...|   LANEIGE|     24.0|\n",
      "|       18|43349462775|     5|           1.0|       null|                   0|                       0|                       0|     2023-03-15|i have used this ...|holy grail for lips!|      light|    brown|        dry|     black|   P420652|Lip Sleeping Mask...|   LANEIGE|     24.0|\n",
      "|       19|23003625295|     5|           1.0|       null|                   0|                       0|                       0|     2023-03-15|I have this in ev...|              A MUST|       fair|     blue|combination|     brown|   P420652|Lip Sleeping Mask...|   LANEIGE|     24.0|\n",
      "+---------+-----------+------+--------------+-----------+--------------------+------------------------+------------------------+---------------+--------------------+--------------------+-----------+---------+-----------+----------+----------+--------------------+----------+---------+\n"
     ]
    }
   ],
   "source": [
    "reviews_df_merge.show()\n"
   ],
   "metadata": {
    "collapsed": false,
    "ExecuteTime": {
     "end_time": "2024-07-11T09:45:44.108215400Z",
     "start_time": "2024-07-11T09:45:43.814854800Z"
    }
   },
   "id": "d8145f2103d07a88"
  },
  {
   "cell_type": "code",
   "execution_count": 80,
   "outputs": [
    {
     "name": "stdout",
     "output_type": "stream",
     "text": [
      "+----------+------------+--------------------+----------+--------------------+--------------------+--------------------+-------------------+-------------------+-------------------+------------------+-------------------+--------------------+------------------+------------------+--------------------+--------------------+--------------------+--------------------+--------------------+------------------+--------------------+--------------------+-----------------+--------------------+------------------+------------------+\n",
      "|product_id|product_name|            brand_id|brand_name|         loves_count|              rating|             reviews|               size|     variation_type|    variation_value|    variation_desc|        ingredients|           price_usd|   value_price_usd|    sale_price_usd|  is_limited_edition|              is_new|     is_out_of_stock|      is_online_only|is_sephora_exclusive|        highlights|    primary_category|  secondary_category|tertiary_category|         child_count|   child_max_price|   child_min_price|\n",
      "+----------+------------+--------------------+----------+--------------------+--------------------+--------------------+-------------------+-------------------+-------------------+------------------+-------------------+--------------------+------------------+------------------+--------------------+--------------------+--------------------+--------------------+--------------------+------------------+--------------------+--------------------+-----------------+--------------------+------------------+------------------+\n",
      "|       0.0|         0.0|1.177163037080635...|       0.0|1.177163037080635...|0.032842848734549734|0.032842848734549734|0.19199529134785168|0.16998234255444378|0.18822836962919365|0.8528546203649205|0.11135962330782813|2.354326074161271...|0.9469099470276633|0.9682165979988229|2.354326074161271...|2.354326074161271...|2.354326074161271...|2.354326074161271...|2.354326074161271...|0.2600353148911124|2.354326074161271...|0.001177163037080...|0.116656856974691|5.885815185403178E-4|0.6760447321954091|0.6760447321954091|\n",
      "+----------+------------+--------------------+----------+--------------------+--------------------+--------------------+-------------------+-------------------+-------------------+------------------+-------------------+--------------------+------------------+------------------+--------------------+--------------------+--------------------+--------------------+--------------------+------------------+--------------------+--------------------+-----------------+--------------------+------------------+------------------+\n"
     ]
    }
   ],
   "source": [
    "def null_percentage(data: DataFrame) -> (DataFrame):\n",
    "    total_count = data.count()\n",
    "    null_counts = data.select([(count(when(col(c).isNull() | isnan(c), c)) / total_count).alias(c) for c in data.columns])\n",
    "    return null_counts\n",
    "\n",
    "# Calculate and show null percentages\n",
    "null_percentage_df_product = null_percentage(product_info_df)\n",
    "null_percentage_df_product.show()"
   ],
   "metadata": {
    "collapsed": false,
    "ExecuteTime": {
     "end_time": "2024-07-11T09:46:22.851778500Z",
     "start_time": "2024-07-11T09:46:22.071115500Z"
    }
   },
   "id": "d94cd5edd2ece710"
  },
  {
   "cell_type": "code",
   "execution_count": 81,
   "outputs": [
    {
     "name": "stdout",
     "output_type": "stream",
     "text": [
      "+--------------------+--------------------+--------------------+-------------------+------------------+--------------------+------------------------+------------------------+------------------+--------------------+------------------+------------------+------------------+-------------------+-------------------+--------------------+--------------------+--------------------+--------------------+\n",
      "|           review_id|           author_id|              rating|     is_recommended|       helpfulness|total_feedback_count|total_neg_feedback_count|total_pos_feedback_count|   submission_time|         review_text|      review_title|         skin_tone|         eye_color|          skin_type|         hair_color|          product_id|        product_name|          brand_name|           price_usd|\n",
      "+--------------------+--------------------+--------------------+-------------------+------------------+--------------------+------------------------+------------------------+------------------+--------------------+------------------+------------------+------------------+-------------------+-------------------+--------------------+--------------------+--------------------+--------------------+\n",
      "|0.007255921118277229|0.007313975744051669|0.007255921118277229|0.15963842853384858|0.5166780054607633|0.007255921118277229|    0.007255921118277229|    0.007255921118277229|0.0042098674721746|0.005343746881831623|0.2902985277709745|0.1609319581643853|0.1968487223446812|0.11020400758338549|0.21279469525856987|0.010622182309667003|0.010652116726081948|0.010668444589581008|0.010711078455384113|\n",
      "+--------------------+--------------------+--------------------+-------------------+------------------+--------------------+------------------------+------------------------+------------------+--------------------+------------------+------------------+------------------+-------------------+-------------------+--------------------+--------------------+--------------------+--------------------+\n"
     ]
    }
   ],
   "source": [
    "null_percentage_df_reviews = null_percentage(reviews_df_merge)\n",
    "null_percentage_df_reviews.show()"
   ],
   "metadata": {
    "collapsed": false,
    "ExecuteTime": {
     "end_time": "2024-07-11T09:46:30.478067300Z",
     "start_time": "2024-07-11T09:46:22.842293700Z"
    }
   },
   "id": "7a6ce9c7b82cb022"
  },
  {
   "cell_type": "markdown",
   "source": [
    "## Cleaning the data\n",
    "- from null percentage of product_info, that is have null value percentage more than 85 %, \n",
    "variation_desc, value_price_usd, and sale_price_usd. we will drop that column\n",
    "- reviews doesnt have null percentage that more than 80%, so we doesnt need to drop it\n",
    "\n",
    "Actually there is no specific rule how much percentage that null value can be accepted, someone said 60 or 80 %, \n",
    "I still doesnt find any resources from paper or article for this statement, so data scientist more understand that for their \n",
    "machine learning task, and I am not data scientist"
   ],
   "metadata": {
    "collapsed": false
   },
   "id": "625c243dcca0bc6e"
  },
  {
   "cell_type": "markdown",
   "source": [],
   "metadata": {
    "collapsed": false
   },
   "id": "4e433e3c70254754"
  },
  {
   "cell_type": "code",
   "execution_count": 74,
   "outputs": [],
   "source": [
    "def clean_transform(product_info: DataFrame, reviews: DataFrame) -> (DataFrame, DataFrame):\n",
    "    \"\"\"\n",
    "    Cleans and transforms the product_info and reviews\n",
    "    :param reviews: \n",
    "    :param product_info:\n",
    "    :return: tuple\n",
    "        - fd_clean_df\n",
    "    \"\"\"\n",
    "    # Clean and Transform product_info\n",
    "    columns_to_drop = ['variation_desc', 'value_price_usd', 'sale_price_usd']\n",
    "    columns_to_cast = ['is_limited_edition', 'is_new', 'is_out_of_stock', 'is_online_only', 'is_sephora_exclusive']\n",
    "\n",
    "    # Cast columns to BooleanType\n",
    "    for column in columns_to_cast:\n",
    "        product_info = product_info.withColumn(column, col(column).cast(BooleanType()))\n",
    "    # Drop columns\n",
    "    clean_product_info = product_info.drop(*columns_to_drop)\n",
    "    \n",
    "    clean_reviews_df = reviews.withColumn('is_recommended', col('is_recommended').cast(BooleanType()))\n",
    "    \n",
    "\n",
    "\n",
    "    return clean_product_info, clean_reviews_df"
   ],
   "metadata": {
    "collapsed": false,
    "ExecuteTime": {
     "end_time": "2024-07-11T09:42:09.055363800Z",
     "start_time": "2024-07-11T09:42:09.041610300Z"
    }
   },
   "id": "81cc30458e1acb5a"
  },
  {
   "cell_type": "code",
   "execution_count": 75,
   "outputs": [],
   "source": [
    "clean_product_info_df, clean_reviews_df = clean_transform(product_info_df, reviews_df_merge)"
   ],
   "metadata": {
    "collapsed": false,
    "ExecuteTime": {
     "end_time": "2024-07-11T09:42:09.507496100Z",
     "start_time": "2024-07-11T09:42:09.415038Z"
    }
   },
   "id": "78f3d3d1df2a3da2"
  },
  {
   "cell_type": "code",
   "execution_count": 76,
   "outputs": [
    {
     "name": "stdout",
     "output_type": "stream",
     "text": [
      "+---------+-----------+------+--------------+-----------+--------------------+------------------------+------------------------+---------------+--------------------+--------------------+-----------+---------+-----------+----------+----------+--------------------+----------+---------+\n",
      "|review_id|  author_id|rating|is_recommended|helpfulness|total_feedback_count|total_neg_feedback_count|total_pos_feedback_count|submission_time|         review_text|        review_title|  skin_tone|eye_color|  skin_type|hair_color|product_id|        product_name|brand_name|price_usd|\n",
      "+---------+-----------+------+--------------+-----------+--------------------+------------------------+------------------------+---------------+--------------------+--------------------+-----------+---------+-----------+----------+----------+--------------------+----------+---------+\n",
      "|        0| 1741593524|     5|          true|        1.0|                   2|                       0|                       2|     2023-02-01|I use this with t...|Taught me how to ...|       null|    brown|        dry|     black|   P504322|Gentle Hydra-Gel ...|  NUDESTIX|     19.0|\n",
      "|        1|31423088263|     1|         false|       null|                   0|                       0|                       0|     2023-03-21|I bought this lip...|        Disappointed|       null|     null|       null|      null|   P420652|Lip Sleeping Mask...|   LANEIGE|     24.0|\n",
      "|        2| 5061282401|     5|          true|       null|                   0|                       0|                       0|     2023-03-21|My review title s...|New Favorite Routine|      light|    brown|        dry|    blonde|   P420652|Lip Sleeping Mask...|   LANEIGE|     24.0|\n",
      "|        3| 6083038851|     5|          true|       null|                   0|                       0|                       0|     2023-03-20|I’ve always loved...|Can't go wrong wi...|       null|    brown|combination|     black|   P420652|Lip Sleeping Mask...|   LANEIGE|     24.0|\n",
      "|        4|47056667835|     5|          true|       null|                   0|                       0|                       0|     2023-03-20|If you have dry c...|     A must have !!!|      light|    hazel|combination|      null|   P420652|Lip Sleeping Mask...|   LANEIGE|     24.0|\n",
      "|        5|42802569154|     4|          true|        1.0|                   1|                       0|                       1|     2023-03-19|The scent isn’t m...|              Great!|lightMedium|    brown|     normal|     brown|   P420652|Lip Sleeping Mask...|   LANEIGE|     24.0|\n",
      "|        6| 6941883808|     2|         false|       0.25|                   8|                       6|                       2|     2023-03-19|I’ll give this 2 ...|Dried my lips out...|      light|     blue|combination|     brown|   P420652|Lip Sleeping Mask...|   LANEIGE|     24.0|\n",
      "|        7|27926227988|     5|          true|       null|                   0|                       0|                       0|     2023-03-19|I use this at nig...|         Works great|  fairLight|    brown|combination|     brown|   P420652|Lip Sleeping Mask...|   LANEIGE|     24.0|\n",
      "|        8| 7656791726|     5|          true|        1.0|                   1|                       0|                       1|     2023-03-18|I love this stuff...|          Must have.|      light|     blue|     normal|    blonde|   P420652|Lip Sleeping Mask...|   LANEIGE|     24.0|\n",
      "|        9|38727834382|     5|          true|        1.0|                   2|                       0|                       2|     2023-03-18|I purchased the S...|     RUN TO PURCHASE|      light|    brown|     normal|     brown|   P420652|Lip Sleeping Mask...|   LANEIGE|     24.0|\n",
      "|       10|45409499927|     5|          true|       null|                   0|                       0|                       0|     2023-03-18|this product is a...|       so nourishing|       null|    brown|        dry|     black|   P420652|Lip Sleeping Mask...|   LANEIGE|     24.0|\n",
      "|       11|37554855017|     5|          true|       null|                   0|                       0|                       0|     2023-03-18|I use this every ...|      Worth the hype|       fair|    green|        dry|     brown|   P420652|Lip Sleeping Mask...|   LANEIGE|     24.0|\n",
      "|       12|21858073785|     4|          true|       null|                   0|                       0|                       0|     2023-03-17|A little goes a l...|                null|      light|     blue|combination|    blonde|   P420652|Lip Sleeping Mask...|   LANEIGE|     24.0|\n",
      "|       13|22249699172|     1|         false|   0.444444|                   9|                       5|                       4|     2023-03-17|Honestly I was so...|I WISHED I LOVED ...|       null|    brown|        dry|      null|   P420652|Lip Sleeping Mask...|   LANEIGE|     24.0|\n",
      "|       14| 1216391002|     3|         false|       null|                   0|                       0|                       0|     2023-03-16|Does the gummy be...|            Just meh|       fair|     blue|combination|    blonde|   P420652|Lip Sleeping Mask...|   LANEIGE|     24.0|\n",
      "|       15|45004161653|     5|          true|       null|                   0|                       0|                       0|     2023-03-16|I just got this a...|A definite must h...|lightMedium|    hazel|     normal|    blonde|   P420652|Lip Sleeping Mask...|   LANEIGE|     24.0|\n",
      "|       16|33602438124|     5|          true|       null|                   0|                       0|                       0|     2023-03-16|i love how hydrat...|                love|lightMedium|    brown|combination|     brown|   P420652|Lip Sleeping Mask...|   LANEIGE|     24.0|\n",
      "|       17|33049388574|     3|          true|       null|                   0|                       0|                       0|     2023-03-15|It’s super glossy...|                null|lightMedium|    hazel|        dry|     brown|   P420652|Lip Sleeping Mask...|   LANEIGE|     24.0|\n",
      "|       18|43349462775|     5|          true|       null|                   0|                       0|                       0|     2023-03-15|i have used this ...|holy grail for lips!|      light|    brown|        dry|     black|   P420652|Lip Sleeping Mask...|   LANEIGE|     24.0|\n",
      "|       19|23003625295|     5|          true|       null|                   0|                       0|                       0|     2023-03-15|I have this in ev...|              A MUST|       fair|     blue|combination|     brown|   P420652|Lip Sleeping Mask...|   LANEIGE|     24.0|\n",
      "+---------+-----------+------+--------------+-----------+--------------------+------------------------+------------------------+---------------+--------------------+--------------------+-----------+---------+-----------+----------+----------+--------------------+----------+---------+\n"
     ]
    }
   ],
   "source": [
    "clean_reviews_df.show()"
   ],
   "metadata": {
    "collapsed": false,
    "ExecuteTime": {
     "end_time": "2024-07-11T09:42:15.824593Z",
     "start_time": "2024-07-11T09:42:15.540540300Z"
    }
   },
   "id": "28ecbb5367bd4175"
  },
  {
   "cell_type": "code",
   "execution_count": 82,
   "outputs": [
    {
     "name": "stdout",
     "output_type": "stream",
     "text": [
      "+----------+--------------------+--------+----------+-----------+------+-------+---------------+--------------------+--------------------+--------------------+---------+------------------+------+---------------+--------------+--------------------+--------------------+----------------+------------------+--------------------+-----------+---------------+---------------+\n",
      "|product_id|        product_name|brand_id|brand_name|loves_count|rating|reviews|           size|      variation_type|     variation_value|         ingredients|price_usd|is_limited_edition|is_new|is_out_of_stock|is_online_only|is_sephora_exclusive|          highlights|primary_category|secondary_category|   tertiary_category|child_count|child_max_price|child_min_price|\n",
      "+----------+--------------------+--------+----------+-----------+------+-------+---------------+--------------------+--------------------+--------------------+---------+------------------+------+---------------+--------------+--------------------+--------------------+----------------+------------------+--------------------+-----------+---------------+---------------+\n",
      "|   P473671|Fragrance Discove...|    6342|     19-69|       6320|3.6364|     11|           null|                null|                null|['Capri Eau de Pa...|     35.0|             false| false|           true|         false|               false|['Unisex/ Genderl...|       Fragrance| Value & Gift Sets|   Perfume Gift Sets|          0|           null|           null|\n",
      "|   P473668|La Habana Eau de ...|    6342|     19-69|       3827|4.1538|     13| 3.4 oz/ 100 mL|Size + Concentrat...|      3.4 oz/ 100 mL|['Alcohol Denat. ...|    195.0|             false| false|           true|         false|               false|['Unisex/ Genderl...|       Fragrance|             Women|             Perfume|          2|           85.0|           30.0|\n",
      "|   P473662|Rainbow Bar Eau d...|    6342|     19-69|       3253|  4.25|     16| 3.4 oz/ 100 mL|Size + Concentrat...|      3.4 oz/ 100 mL|['Alcohol Denat. ...|    195.0|             false| false|           true|         false|               false|['Unisex/ Genderl...|       Fragrance|             Women|             Perfume|          2|           75.0|           30.0|\n",
      "|   P473660|Kasbah Eau de Parfum|    6342|     19-69|       3018|4.4762|     21| 3.4 oz/ 100 mL|Size + Concentrat...|      3.4 oz/ 100 mL|['Alcohol Denat. ...|    195.0|             false| false|           true|         false|               false|['Unisex/ Genderl...|       Fragrance|             Women|             Perfume|          2|           75.0|           30.0|\n",
      "|   P473658|Purple Haze Eau d...|    6342|     19-69|       2691|3.2308|     13| 3.4 oz/ 100 mL|Size + Concentrat...|      3.4 oz/ 100 mL|['Alcohol Denat. ...|    195.0|             false| false|           true|         false|               false|['Unisex/ Genderl...|       Fragrance|             Women|             Perfume|          2|           75.0|           30.0|\n",
      "|   P473661|Kasbah Eau de Par...|    6342|     19-69|       2448|4.4762|     21|0.25 oz/ 7.5 mL|Size + Concentrat...|0.25 oz/ 7.5 mL E...|['Alcohol Denat. ...|     30.0|             false| false|           true|         false|               false|['Warm &Spicy Sce...|       Fragrance|             Women|Rollerballs & Tra...|          0|           null|           null|\n",
      "|   P473659|Purple Haze Eau d...|    6342|     19-69|       1619|3.2308|     13|0.25 oz/ 7.5 mL|Size + Concentrat...|     0.25 oz/ 7.5 mL|['Alcohol Denat. ...|     30.0|             false| false|           true|         false|               false|['Unisex/ Genderl...|       Fragrance|             Women|Rollerballs & Tra...|          0|           null|           null|\n",
      "|   P473666|Invisible Post Ea...|    6342|     19-69|       1542| 3.625|      8| 3.4 oz/ 100 mL|Size + Concentrat...|      3.4 oz/ 100 mL|['Alcohol Denat. ...|    195.0|             false| false|           true|         false|               false|['Unisex/ Genderl...|       Fragrance|             Women|             Perfume|          2|           75.0|           30.0|\n",
      "|   P472300| Capri Eau de Parfum|    6342|     19-69|       1542|3.5714|      7| 3.4 oz/ 100 mL|Size + Concentrat...|3.4 oz/ 100 mL Ea...|['Alcohol Denat. ...|    195.0|             false| false|           true|         false|               false|['Fresh Scent', '...|       Fragrance|             Women|             Perfume|          2|           75.0|           30.0|\n",
      "|   P473667|Invisible Post Ea...|    6342|     19-69|       1377| 3.625|      8|0.25 oz/ 7.5 mL|Size + Concentrat...|     0.25 oz/ 7.5 mL|['Alcohol Denat. ...|     30.0|             false| false|           true|         false|               false|['Unisex/ Genderl...|       Fragrance|             Women|Rollerballs & Tra...|          0|           null|           null|\n",
      "|   P473663|Rainbow Bar Eau d...|    6342|     19-69|       1371|  4.25|     16|0.25 oz/ 7.5 mL|Size + Concentrat...|     0.25 oz/ 7.5 mL|['Alcohol Denat. ...|     30.0|             false| false|           true|         false|               false|['Unisex/ Genderl...|       Fragrance|             Women|Rollerballs & Tra...|          0|           null|           null|\n",
      "|   P473670|Capri Eau de Parf...|    6342|     19-69|       1206|3.5714|      7|0.25 oz/ 7.5 mL|Size + Concentrat...|     0.25 oz/ 7.5 mL|['Alcohol Denat. ...|     30.0|             false| false|           true|         false|               false|['Unisex/ Genderl...|       Fragrance|             Women|Rollerballs & Tra...|          0|           null|           null|\n",
      "|   P473664|L'air Barbes Eau ...|    6342|     19-69|        981|   3.0|      4| 3.4 oz/ 100 mL|Size + Concentrat...|3.4 oz/ 100 mL Ea...|['Alcohol Denat. ...|    195.0|             false| false|           true|         false|               false|['Fresh Scent', '...|       Fragrance|             Women|             Perfume|          2|           75.0|           30.0|\n",
      "|   P473665|L'air Barbes Eau ...|    6342|     19-69|        721|   3.0|      4|0.25 oz/ 7.5 mL|Size + Concentrat...|     0.25 oz/ 7.5 mL|['Alcohol Denat. ...|     30.0|             false| false|           true|         false|               false|['Unisex/ Genderl...|       Fragrance|             Women|Rollerballs & Tra...|          0|           null|           null|\n",
      "|   P476416|AFRICAN Beauty Bu...|    6471|54 Thrones|      19028|4.3256|    258|  6 oz / 180 mL|               Scent|Ugandan Vanilla +...|['Butyrospermum P...|     38.0|             false| false|           true|         false|               false|['Clean at Sephor...|     Bath & Body| Body Moisturizers|Body Lotions & Bo...|         10|           38.0|           12.0|\n",
      "|   P476418|African Beauty Bu...|    6471|54 Thrones|       7526| 3.561|     41|           null|                null|                null|['Egyptian Lavend...|     29.0|             false| false|           true|          true|                true|['Good for: Dryne...|     Bath & Body| Value & Gift Sets|                null|          0|           null|           null|\n",
      "|   P476417|African Beauty Bu...|    6471|54 Thrones|       3741|4.2273|     22|           null|                null|                null|['Egyptian Lavend...|     80.0|             false| false|           true|         false|               false|['Good for: Dryne...|     Bath & Body| Value & Gift Sets|                null|          0|           null|           null|\n",
      "|   P503832|Mini AFRICAN Beau...|    6471|54 Thrones|       3392|4.5175|    143|   1 oz / 30 mL|               Scent|Ugandan Vanilla a...|['Butyrospermum P...|     12.0|             false|  true|           true|          true|               false|['Clean at Sephor...|     Bath & Body| Body Moisturizers|Body Lotions & Bo...|          2|           12.0|           12.0|\n",
      "|   P483068|  ABBOTT Sampler Set|    6485|    ABBOTT|       4493|4.8163|     49|           null|                null|                null|['Big Sky:', 'Wat...|     26.0|             false| false|          false|          true|               false|['Vegan', 'Woody ...|       Fragrance| Value & Gift Sets|   Perfume Gift Sets|          0|           null|           null|\n",
      "|   P483139|    The Cape Perfume|    6485|    ABBOTT|       3118|4.6111|     18| 1.7 oz / 50 mL|Size + Concentrat...|1.7 oz / 50 mL ea...|['Water, Denature...|     84.0|             false| false|           true|         false|               false|['Clean + Planet ...|       Fragrance|             Women|             Perfume|          1|           29.0|           29.0|\n",
      "+----------+--------------------+--------+----------+-----------+------+-------+---------------+--------------------+--------------------+--------------------+---------+------------------+------+---------------+--------------+--------------------+--------------------+----------------+------------------+--------------------+-----------+---------------+---------------+\n"
     ]
    }
   ],
   "source": [
    "clean_product_info_df.show()"
   ],
   "metadata": {
    "collapsed": false,
    "ExecuteTime": {
     "end_time": "2024-07-11T09:56:37.696772600Z",
     "start_time": "2024-07-11T09:56:37.612398300Z"
    }
   },
   "id": "65befb9a5a4ab850"
  }
 ],
 "metadata": {
  "kernelspec": {
   "display_name": "Python 3",
   "language": "python",
   "name": "python3"
  },
  "language_info": {
   "codemirror_mode": {
    "name": "ipython",
    "version": 2
   },
   "file_extension": ".py",
   "mimetype": "text/x-python",
   "name": "python",
   "nbconvert_exporter": "python",
   "pygments_lexer": "ipython2",
   "version": "2.7.6"
  }
 },
 "nbformat": 4,
 "nbformat_minor": 5
}
